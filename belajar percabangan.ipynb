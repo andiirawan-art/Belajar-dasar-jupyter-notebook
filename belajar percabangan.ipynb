{
 "cells": [
  {
   "cell_type": "code",
   "execution_count": 5,
   "id": "d0250c41",
   "metadata": {},
   "outputs": [
    {
     "name": "stdout",
     "output_type": "stream",
     "text": [
      "masukkan nilai IPK = C\n"
     ]
    }
   ],
   "source": [
    "ipk = input (\"masukkan nilai IPK = \")"
   ]
  },
  {
   "cell_type": "code",
   "execution_count": 6,
   "id": "11cee8d4",
   "metadata": {},
   "outputs": [
    {
     "name": "stdout",
     "output_type": "stream",
     "text": [
      "Nilai anda CUKUP\n"
     ]
    }
   ],
   "source": [
    "if ipk == \"A\":\n",
    "    print (\"Nilai anda SEMPURNA\")\n",
    "elif ipk == \"B\":\n",
    "    print (\"Nilai anda BAGUS\")\n",
    "elif ipk == \"C\":\n",
    "    print (\"Nilai anda CUKUP\")\n",
    "elif ipk == \"D\":\n",
    "    print (\"Nilai anda KURANG\")\n",
    "elif ipk == \"E\":\n",
    "    print (\"Nilai anda PARAH\")\n",
    "else:\n",
    "    print(\"pilihlan hanya A/B/C/D/E !\")"
   ]
  },
  {
   "cell_type": "code",
   "execution_count": null,
   "id": "1b5cc909",
   "metadata": {},
   "outputs": [],
   "source": []
  }
 ],
 "metadata": {
  "kernelspec": {
   "display_name": "Python 3 (ipykernel)",
   "language": "python",
   "name": "python3"
  },
  "language_info": {
   "codemirror_mode": {
    "name": "ipython",
    "version": 3
   },
   "file_extension": ".py",
   "mimetype": "text/x-python",
   "name": "python",
   "nbconvert_exporter": "python",
   "pygments_lexer": "ipython3",
   "version": "3.10.5"
  }
 },
 "nbformat": 4,
 "nbformat_minor": 5
}
