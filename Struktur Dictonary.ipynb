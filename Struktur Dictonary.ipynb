{
 "cells": [
  {
   "cell_type": "code",
   "execution_count": 3,
   "id": "4ce13879",
   "metadata": {},
   "outputs": [],
   "source": [
    "student = {\n",
    "    \"nama\" : \"andi\",\n",
    "    \"umur\" : 25,\n",
    "    \"tinggi\" : 176,\n",
    "    \"hobi\" : [\"olahraga, jalan-jalan\"],\n",
    "    \"kontak\" : {\n",
    "        \"website\" : \"ngodingaja.com\",\n",
    "        \"email\" : \"ngodingaja@gmail.com\"\n",
    "    }\n",
    "}"
   ]
  },
  {
   "cell_type": "code",
   "execution_count": 4,
   "id": "8a1a2cf3",
   "metadata": {},
   "outputs": [
    {
     "name": "stdout",
     "output_type": "stream",
     "text": [
      "{'nama': 'andi', 'umur': 25, 'tinggi': 176, 'hobi': ['olahraga, jalan-jalan'], 'kontak': {'website': 'ngodingaja.com', 'email': 'ngodingaja@gmail.com'}}\n"
     ]
    }
   ],
   "source": [
    "print (student)"
   ]
  },
  {
   "cell_type": "code",
   "execution_count": null,
   "id": "449b6753",
   "metadata": {},
   "outputs": [],
   "source": []
  }
 ],
 "metadata": {
  "kernelspec": {
   "display_name": "Python 3 (ipykernel)",
   "language": "python",
   "name": "python3"
  },
  "language_info": {
   "codemirror_mode": {
    "name": "ipython",
    "version": 3
   },
   "file_extension": ".py",
   "mimetype": "text/x-python",
   "name": "python",
   "nbconvert_exporter": "python",
   "pygments_lexer": "ipython3",
   "version": "3.10.5"
  }
 },
 "nbformat": 4,
 "nbformat_minor": 5
}
